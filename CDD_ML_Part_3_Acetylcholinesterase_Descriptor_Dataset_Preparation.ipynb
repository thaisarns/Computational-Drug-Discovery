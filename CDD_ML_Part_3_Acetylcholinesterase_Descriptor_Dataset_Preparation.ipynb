{
 "cells": [
  {
   "cell_type": "markdown",
   "metadata": {
    "colab_type": "text",
    "id": "l0Y7_lgN4jzM"
   },
   "source": [
    "# **Bioinformatics Project - Computational Drug Discovery [Part 3] Descriptor Calculation and Dataset Preparation**\n",
    "\n",
    "Chanin Nantasenamat\n",
    "\n",
    "[*'Data Professor' YouTube channel*](http://youtube.com/dataprofessor)\n",
    "\n",
    "In this Jupyter notebook, we will be building a real-life **data science project** that you can include in your **data science portfolio**. Particularly, we will be building a machine learning model using the ChEMBL bioactivity data.\n",
    "\n",
    "In **Part 3**, we will be calculating molecular descriptors that are essentially quantitative description of the compounds in the dataset. Finally, we will be preparing this into a dataset for subsequent model building in Part 4.\n",
    "\n",
    "---"
   ]
  },
  {
   "cell_type": "markdown",
   "metadata": {
    "colab_type": "text",
    "id": "o-4IOizard4P"
   },
   "source": [
    "## **Download PaDEL-Descriptor**"
   ]
  },
  {
   "cell_type": "code",
   "execution_count": null,
   "metadata": {
    "colab": {
     "base_uri": "https://localhost:8080/",
     "height": 572
    },
    "colab_type": "code",
    "id": "H0mjQ2PcrSe5",
    "outputId": "7cd24f88-a9b5-445e-90fc-a2bde1f2aef8",
    "scrolled": true
   },
   "outputs": [],
   "source": [
    "! wget https://github.com/dataprofessor/bioinformatics/raw/master/padel.zip\n",
    "! wget https://github.com/dataprofessor/bioinformatics/raw/master/padel.sh"
   ]
  },
  {
   "cell_type": "code",
   "execution_count": null,
   "metadata": {
    "colab": {
     "base_uri": "https://localhost:8080/",
     "height": 1000
    },
    "colab_type": "code",
    "id": "64HnTL4tS-nA",
    "outputId": "b082c979-db9f-48dd-8050-0462b6cf4979"
   },
   "outputs": [],
   "source": [
    "! unzip padel.zip"
   ]
  },
  {
   "cell_type": "markdown",
   "metadata": {
    "colab_type": "text",
    "id": "QmxXXFa4wTNG"
   },
   "source": [
    "## **Load bioactivity data**"
   ]
  },
  {
   "cell_type": "markdown",
   "metadata": {
    "colab_type": "text",
    "id": "fcBvxkPWKFRV"
   },
   "source": [
    "Download the curated ChEMBL bioactivity data that has been pre-processed from Parts 1 and 2 of this Bioinformatics Project series. Here we will be using the **bioactivity_data_3class_pIC50.csv** file that essentially contain the pIC50 values that we will be using for building a regression model."
   ]
  },
  {
   "cell_type": "code",
   "execution_count": null,
   "metadata": {
    "colab": {
     "base_uri": "https://localhost:8080/",
     "height": 208
    },
    "colab_type": "code",
    "id": "JBs7QdJoubWC",
    "outputId": "3d6bfdcd-1eb9-4930-8e43-45d217f7d22b"
   },
   "outputs": [],
   "source": [
    "! wget https://raw.githubusercontent.com/dataprofessor/data/master/acetylcholinesterase_04_bioactivity_data_3class_pIC50.csv"
   ]
  },
  {
   "cell_type": "code",
   "execution_count": 1,
   "metadata": {
    "colab": {},
    "colab_type": "code",
    "id": "Fpu5C7HlwV9s"
   },
   "outputs": [],
   "source": [
    "import pandas as pd"
   ]
  },
  {
   "cell_type": "code",
   "execution_count": 2,
   "metadata": {
    "colab": {},
    "colab_type": "code",
    "id": "GCcE8J5XwjtB"
   },
   "outputs": [],
   "source": [
    "df3 = pd.read_csv('acetylcholinesterase_04_bioactivity_data_3class_pIC50.csv')"
   ]
  },
  {
   "cell_type": "code",
   "execution_count": 3,
   "metadata": {
    "colab": {
     "base_uri": "https://localhost:8080/",
     "height": 467
    },
    "colab_type": "code",
    "id": "60z_N6egNiSJ",
    "outputId": "4419acc9-ced7-4a45-b849-665ed5e0fd99"
   },
   "outputs": [
    {
     "data": {
      "text/html": [
       "<div>\n",
       "<style scoped>\n",
       "    .dataframe tbody tr th:only-of-type {\n",
       "        vertical-align: middle;\n",
       "    }\n",
       "\n",
       "    .dataframe tbody tr th {\n",
       "        vertical-align: top;\n",
       "    }\n",
       "\n",
       "    .dataframe thead th {\n",
       "        text-align: right;\n",
       "    }\n",
       "</style>\n",
       "<table border=\"1\" class=\"dataframe\">\n",
       "  <thead>\n",
       "    <tr style=\"text-align: right;\">\n",
       "      <th></th>\n",
       "      <th>Unnamed: 0</th>\n",
       "      <th>molecule_chembl_id</th>\n",
       "      <th>canonical_smiles</th>\n",
       "      <th>class</th>\n",
       "      <th>MW</th>\n",
       "      <th>LogP</th>\n",
       "      <th>NumHDonors</th>\n",
       "      <th>NumHAcceptors</th>\n",
       "      <th>pIC50</th>\n",
       "    </tr>\n",
       "  </thead>\n",
       "  <tbody>\n",
       "    <tr>\n",
       "      <th>0</th>\n",
       "      <td>0</td>\n",
       "      <td>CHEMBL1678</td>\n",
       "      <td>COc1cc2c(cc1OC)C(=O)C(CC1CCN(Cc3ccccc3)CC1)C2.Cl</td>\n",
       "      <td>active</td>\n",
       "      <td>379.500</td>\n",
       "      <td>4.3611</td>\n",
       "      <td>0.0</td>\n",
       "      <td>4.0</td>\n",
       "      <td>8.244125</td>\n",
       "    </tr>\n",
       "    <tr>\n",
       "      <th>1</th>\n",
       "      <td>1</td>\n",
       "      <td>CHEMBL552871</td>\n",
       "      <td>COc1cc2c(c(OC)c1OC)C(=O)C(CC1CCN(Cc3ccccc3)CC1...</td>\n",
       "      <td>active</td>\n",
       "      <td>409.526</td>\n",
       "      <td>4.3697</td>\n",
       "      <td>0.0</td>\n",
       "      <td>5.0</td>\n",
       "      <td>7.886057</td>\n",
       "    </tr>\n",
       "    <tr>\n",
       "      <th>2</th>\n",
       "      <td>2</td>\n",
       "      <td>CHEMBL145446</td>\n",
       "      <td>COc1cc2c(cc1OC)C(=O)C(CCCC1CCN(Cc3ccccc3)CC1)C2</td>\n",
       "      <td>active</td>\n",
       "      <td>407.554</td>\n",
       "      <td>5.1413</td>\n",
       "      <td>0.0</td>\n",
       "      <td>4.0</td>\n",
       "      <td>8.823909</td>\n",
       "    </tr>\n",
       "    <tr>\n",
       "      <th>3</th>\n",
       "      <td>3</td>\n",
       "      <td>CHEMBL538050</td>\n",
       "      <td>Cl.O=C1c2ccccc2CCC1CC1CCN(Cc2ccccc2)CC1</td>\n",
       "      <td>intermediate</td>\n",
       "      <td>333.475</td>\n",
       "      <td>4.7340</td>\n",
       "      <td>0.0</td>\n",
       "      <td>2.0</td>\n",
       "      <td>5.677781</td>\n",
       "    </tr>\n",
       "    <tr>\n",
       "      <th>4</th>\n",
       "      <td>4</td>\n",
       "      <td>CHEMBL543923</td>\n",
       "      <td>COc1cc2c(cc1OC)CC(CC1CCN(Cc3ccccc3)CC1)=C2.Cl</td>\n",
       "      <td>intermediate</td>\n",
       "      <td>363.501</td>\n",
       "      <td>4.9456</td>\n",
       "      <td>0.0</td>\n",
       "      <td>3.0</td>\n",
       "      <td>5.356547</td>\n",
       "    </tr>\n",
       "    <tr>\n",
       "      <th>...</th>\n",
       "      <td>...</td>\n",
       "      <td>...</td>\n",
       "      <td>...</td>\n",
       "      <td>...</td>\n",
       "      <td>...</td>\n",
       "      <td>...</td>\n",
       "      <td>...</td>\n",
       "      <td>...</td>\n",
       "      <td>...</td>\n",
       "    </tr>\n",
       "    <tr>\n",
       "      <th>442</th>\n",
       "      <td>442</td>\n",
       "      <td>CHEMBL4543223</td>\n",
       "      <td>COc1ccc(-c2coc3cc(OCCOCCN4CCCCC4)ccc3c2=O)cc1</td>\n",
       "      <td>inactive</td>\n",
       "      <td>423.509</td>\n",
       "      <td>4.3499</td>\n",
       "      <td>0.0</td>\n",
       "      <td>6.0</td>\n",
       "      <td>4.301030</td>\n",
       "    </tr>\n",
       "    <tr>\n",
       "      <th>443</th>\n",
       "      <td>443</td>\n",
       "      <td>CHEMBL4516496</td>\n",
       "      <td>CCN(C)CCCOc1ccc2c(=O)c(-c3ccc(OC)cc3)coc2c1</td>\n",
       "      <td>inactive</td>\n",
       "      <td>367.445</td>\n",
       "      <td>4.1892</td>\n",
       "      <td>0.0</td>\n",
       "      <td>5.0</td>\n",
       "      <td>4.645892</td>\n",
       "    </tr>\n",
       "    <tr>\n",
       "      <th>444</th>\n",
       "      <td>444</td>\n",
       "      <td>CHEMBL4586884</td>\n",
       "      <td>O=c1c(-c2ccc(OCCN3CCCCC3)cc2)coc2cc(OCCN3CCCC3...</td>\n",
       "      <td>active</td>\n",
       "      <td>462.590</td>\n",
       "      <td>4.7993</td>\n",
       "      <td>0.0</td>\n",
       "      <td>6.0</td>\n",
       "      <td>6.148742</td>\n",
       "    </tr>\n",
       "    <tr>\n",
       "      <th>445</th>\n",
       "      <td>445</td>\n",
       "      <td>CHEMBL4554976</td>\n",
       "      <td>CCN(C)CCCCOc1ccc2c(=O)c(-c3ccc(OC)cc3)coc2c1</td>\n",
       "      <td>intermediate</td>\n",
       "      <td>381.472</td>\n",
       "      <td>4.5793</td>\n",
       "      <td>0.0</td>\n",
       "      <td>5.0</td>\n",
       "      <td>5.023650</td>\n",
       "    </tr>\n",
       "    <tr>\n",
       "      <th>446</th>\n",
       "      <td>446</td>\n",
       "      <td>CHEMBL4439461</td>\n",
       "      <td>COc1ccc(-c2coc3cc(OCCCCN4CCCCC4)ccc3c2=O)cc1</td>\n",
       "      <td>intermediate</td>\n",
       "      <td>407.510</td>\n",
       "      <td>5.1135</td>\n",
       "      <td>0.0</td>\n",
       "      <td>5.0</td>\n",
       "      <td>5.400117</td>\n",
       "    </tr>\n",
       "  </tbody>\n",
       "</table>\n",
       "<p>447 rows × 9 columns</p>\n",
       "</div>"
      ],
      "text/plain": [
       "     Unnamed: 0 molecule_chembl_id  \\\n",
       "0             0         CHEMBL1678   \n",
       "1             1       CHEMBL552871   \n",
       "2             2       CHEMBL145446   \n",
       "3             3       CHEMBL538050   \n",
       "4             4       CHEMBL543923   \n",
       "..          ...                ...   \n",
       "442         442      CHEMBL4543223   \n",
       "443         443      CHEMBL4516496   \n",
       "444         444      CHEMBL4586884   \n",
       "445         445      CHEMBL4554976   \n",
       "446         446      CHEMBL4439461   \n",
       "\n",
       "                                      canonical_smiles         class       MW  \\\n",
       "0     COc1cc2c(cc1OC)C(=O)C(CC1CCN(Cc3ccccc3)CC1)C2.Cl        active  379.500   \n",
       "1    COc1cc2c(c(OC)c1OC)C(=O)C(CC1CCN(Cc3ccccc3)CC1...        active  409.526   \n",
       "2      COc1cc2c(cc1OC)C(=O)C(CCCC1CCN(Cc3ccccc3)CC1)C2        active  407.554   \n",
       "3              Cl.O=C1c2ccccc2CCC1CC1CCN(Cc2ccccc2)CC1  intermediate  333.475   \n",
       "4        COc1cc2c(cc1OC)CC(CC1CCN(Cc3ccccc3)CC1)=C2.Cl  intermediate  363.501   \n",
       "..                                                 ...           ...      ...   \n",
       "442      COc1ccc(-c2coc3cc(OCCOCCN4CCCCC4)ccc3c2=O)cc1      inactive  423.509   \n",
       "443        CCN(C)CCCOc1ccc2c(=O)c(-c3ccc(OC)cc3)coc2c1      inactive  367.445   \n",
       "444  O=c1c(-c2ccc(OCCN3CCCCC3)cc2)coc2cc(OCCN3CCCC3...        active  462.590   \n",
       "445       CCN(C)CCCCOc1ccc2c(=O)c(-c3ccc(OC)cc3)coc2c1  intermediate  381.472   \n",
       "446       COc1ccc(-c2coc3cc(OCCCCN4CCCCC4)ccc3c2=O)cc1  intermediate  407.510   \n",
       "\n",
       "       LogP  NumHDonors  NumHAcceptors     pIC50  \n",
       "0    4.3611         0.0            4.0  8.244125  \n",
       "1    4.3697         0.0            5.0  7.886057  \n",
       "2    5.1413         0.0            4.0  8.823909  \n",
       "3    4.7340         0.0            2.0  5.677781  \n",
       "4    4.9456         0.0            3.0  5.356547  \n",
       "..      ...         ...            ...       ...  \n",
       "442  4.3499         0.0            6.0  4.301030  \n",
       "443  4.1892         0.0            5.0  4.645892  \n",
       "444  4.7993         0.0            6.0  6.148742  \n",
       "445  4.5793         0.0            5.0  5.023650  \n",
       "446  5.1135         0.0            5.0  5.400117  \n",
       "\n",
       "[447 rows x 9 columns]"
      ]
     },
     "execution_count": 3,
     "metadata": {},
     "output_type": "execute_result"
    }
   ],
   "source": [
    "df3"
   ]
  },
  {
   "cell_type": "code",
   "execution_count": 4,
   "metadata": {
    "colab": {},
    "colab_type": "code",
    "id": "BJDJkY43R-9F"
   },
   "outputs": [],
   "source": [
    "selection = ['canonical_smiles','molecule_chembl_id']\n",
    "df3_selection = df3[selection]\n",
    "df3_selection.to_csv('molecule.smi', sep='\\t', index=False, header=False)"
   ]
  },
  {
   "cell_type": "code",
   "execution_count": 5,
   "metadata": {
    "colab": {
     "base_uri": "https://localhost:8080/",
     "height": 104
    },
    "colab_type": "code",
    "id": "nRSCoPVDSkf5",
    "outputId": "2be43c1d-d8b8-42a8-93fc-4c1b29855a8a"
   },
   "outputs": [
    {
     "name": "stdout",
     "output_type": "stream",
     "text": [
      "COc1cc2c(cc1OC)C(=O)C(CC1CCN(Cc3ccccc3)CC1)C2.Cl\tCHEMBL1678\r\n",
      "COc1cc2c(c(OC)c1OC)C(=O)C(CC1CCN(Cc3ccccc3)CC1)C2.Cl\tCHEMBL552871\r\n",
      "COc1cc2c(cc1OC)C(=O)C(CCCC1CCN(Cc3ccccc3)CC1)C2\tCHEMBL145446\r\n",
      "Cl.O=C1c2ccccc2CCC1CC1CCN(Cc2ccccc2)CC1\tCHEMBL538050\r\n",
      "COc1cc2c(cc1OC)CC(CC1CCN(Cc3ccccc3)CC1)=C2.Cl\tCHEMBL543923\r\n"
     ]
    }
   ],
   "source": [
    "! cat molecule.smi | head -5"
   ]
  },
  {
   "cell_type": "code",
   "execution_count": 6,
   "metadata": {
    "colab": {
     "base_uri": "https://localhost:8080/",
     "height": 35
    },
    "colab_type": "code",
    "id": "GlYaJ9pzUGjS",
    "outputId": "6dab2be5-172a-4efb-8b42-7ceef402bfa3"
   },
   "outputs": [
    {
     "name": "stdout",
     "output_type": "stream",
     "text": [
      "     447\r\n"
     ]
    }
   ],
   "source": [
    "! cat molecule.smi | wc -l"
   ]
  },
  {
   "cell_type": "markdown",
   "metadata": {
    "colab_type": "text",
    "id": "YzN_S4Quro5S"
   },
   "source": [
    "## **Calculate fingerprint descriptors**\n"
   ]
  },
  {
   "cell_type": "markdown",
   "metadata": {
    "colab_type": "text",
    "id": "JsgTV-ByxdMa"
   },
   "source": [
    "### **Calculate PaDEL descriptors**"
   ]
  },
  {
   "cell_type": "code",
   "execution_count": 7,
   "metadata": {
    "colab": {
     "base_uri": "https://localhost:8080/",
     "height": 55
    },
    "colab_type": "code",
    "id": "hSCopQvEiSMj",
    "outputId": "77fe3614-69ef-4bd1-9dca-2a9b2c975fbb"
   },
   "outputs": [
    {
     "name": "stdout",
     "output_type": "stream",
     "text": [
      "java -Xms1G -Xmx1G -Djava.awt.headless=true -jar ./PaDEL-Descriptor/PaDEL-Descriptor.jar -removesalt -standardizenitro -fingerprints -descriptortypes ./PaDEL-Descriptor/PubchemFingerprinter.xml -dir ./ -file descriptors_output.csv\r\n"
     ]
    }
   ],
   "source": [
    "! cat padel.sh"
   ]
  },
  {
   "cell_type": "code",
   "execution_count": 8,
   "metadata": {
    "colab": {
     "base_uri": "https://localhost:8080/",
     "height": 1000
    },
    "colab_type": "code",
    "id": "6kN9jrGpS5nE",
    "outputId": "456a4161-b3dd-44b9-bc82-2523976f25ea"
   },
   "outputs": [
    {
     "name": "stdout",
     "output_type": "stream",
     "text": [
      "Processing CHEMBL1678 in molecule.smi (1/447). \n",
      "Processing CHEMBL552871 in molecule.smi (2/447). \n",
      "Processing CHEMBL145446 in molecule.smi (3/447). \n",
      "Processing CHEMBL538050 in molecule.smi (4/447). \n",
      "Processing CHEMBL544629 in molecule.smi (6/447). Average speed: 2.78 s/mol.\n",
      "Processing CHEMBL543923 in molecule.smi (5/447). Average speed: 2.74 s/mol.\n",
      "Processing CHEMBL545317 in molecule.smi (7/447). Average speed: 1.41 s/mol.\n",
      "Processing CHEMBL554887 in molecule.smi (8/447). Average speed: 0.95 s/mol.\n",
      "Processing CHEMBL542253 in molecule.smi (9/447). Average speed: 0.82 s/mol.\n",
      "Processing CHEMBL555107 in molecule.smi (10/447). Average speed: 0.67 s/mol.\n",
      "Processing CHEMBL542744 in molecule.smi (11/447). Average speed: 0.59 s/mol.\n",
      "Processing CHEMBL545560 in molecule.smi (12/447). Average speed: 0.51 s/mol.\n",
      "Processing CHEMBL144477 in molecule.smi (13/447). Average speed: 0.50 s/mol.\n",
      "Processing CHEMBL555358 in molecule.smi (14/447). Average speed: 0.45 s/mol.\n",
      "Processing CHEMBL356333 in molecule.smi (15/447). Average speed: 0.42 s/mol.\n",
      "Processing CHEMBL145713 in molecule.smi (16/447). Average speed: 0.40 s/mol.\n",
      "Processing CHEMBL538796 in molecule.smi (17/447). Average speed: 0.37 s/mol.\n",
      "Processing CHEMBL538296 in molecule.smi (18/447). Average speed: 0.36 s/mol.\n",
      "Processing CHEMBL543924 in molecule.smi (19/447). Average speed: 0.32 s/mol.\n",
      "Processing CHEMBL358517 in molecule.smi (20/447). Average speed: 0.33 s/mol.\n",
      "Processing CHEMBL539073 in molecule.smi (21/447). Average speed: 0.32 s/mol.\n",
      "Processing CHEMBL545791 in molecule.smi (22/447). Average speed: 0.31 s/mol.\n",
      "Processing CHEMBL544860 in molecule.smi (23/447). Average speed: 0.30 s/mol.\n",
      "Processing CHEMBL540607 in molecule.smi (24/447). Average speed: 0.27 s/mol.\n",
      "Processing CHEMBL95 in molecule.smi (25/447). Average speed: 0.29 s/mol.\n",
      "Processing CHEMBL344765 in molecule.smi (26/447). Average speed: 0.28 s/mol.\n",
      "Processing CHEMBL145361 in molecule.smi (27/447). Average speed: 0.28 s/mol.\n",
      "Processing CHEMBL544389 in molecule.smi (28/447). Average speed: 0.26 s/mol.\n",
      "Processing CHEMBL434811 in molecule.smi (29/447). Average speed: 0.24 s/mol.\n",
      "Processing CHEMBL142980 in molecule.smi (30/447). Average speed: 0.26 s/mol.\n",
      "Processing CHEMBL544385 in molecule.smi (31/447). Average speed: 0.25 s/mol.\n",
      "Processing CHEMBL439626 in molecule.smi (32/447). Average speed: 0.25 s/mol.\n",
      "Processing CHEMBL94 in molecule.smi (33/447). Average speed: 0.23 s/mol.\n",
      "Processing CHEMBL544159 in molecule.smi (34/447). Average speed: 0.24 s/mol.\n",
      "Processing CHEMBL142838 in molecule.smi (35/447). Average speed: 0.23 s/mol.\n",
      "Processing CHEMBL538069 in molecule.smi (36/447). Average speed: 0.23 s/mol.\n",
      "Processing CHEMBL344317 in molecule.smi (37/447). Average speed: 0.23 s/mol.\n",
      "Processing CHEMBL555827 in molecule.smi (38/447). Average speed: 0.22 s/mol.\n",
      "Processing CHEMBL544161 in molecule.smi (39/447). Average speed: 0.22 s/mol.\n",
      "Processing CHEMBL557839 in molecule.smi (40/447). Average speed: 0.21 s/mol.\n",
      "Processing CHEMBL553263 in molecule.smi (41/447). Average speed: 0.22 s/mol.\n",
      "Processing CHEMBL541625 in molecule.smi (42/447). Average speed: 0.22 s/mol.\n",
      "Processing CHEMBL55323 in molecule.smi (43/447). Average speed: 0.21 s/mol.\n",
      "Processing CHEMBL299313 in molecule.smi (44/447). Average speed: 0.21 s/mol.\n",
      "Processing CHEMBL340382 in molecule.smi (45/447). Average speed: 0.21 s/mol.\n",
      "Processing CHEMBL55253 in molecule.smi (46/447). Average speed: 0.22 s/mol.\n",
      "Processing CHEMBL125571 in molecule.smi (47/447). Average speed: 0.21 s/mol.\n",
      "Processing CHEMBL126304 in molecule.smi (48/447). Average speed: 0.21 s/mol.\n",
      "Processing CHEMBL57696 in molecule.smi (49/447). Average speed: 0.20 s/mol.\n",
      "Processing CHEMBL127750 in molecule.smi (50/447). Average speed: 0.21 s/mol.\n",
      "Processing CHEMBL339630 in molecule.smi (51/447). Average speed: 0.20 s/mol.\n",
      "Processing CHEMBL301243 in molecule.smi (52/447). Average speed: 0.20 s/mol.\n",
      "Processing CHEMBL126827 in molecule.smi (53/447). Average speed: 0.20 s/mol.\n",
      "Processing CHEMBL294242 in molecule.smi (54/447). Average speed: 0.20 s/mol.\n",
      "Processing CHEMBL126457 in molecule.smi (56/447). Average speed: 0.19 s/mol.\n",
      "Processing CHEMBL56706 in molecule.smi (55/447). Average speed: 0.19 s/mol.\n",
      "Processing CHEMBL59583 in molecule.smi (57/447). Average speed: 0.19 s/mol.\n",
      "Processing CHEMBL340621 in molecule.smi (58/447). Average speed: 0.19 s/mol.\n",
      "Processing CHEMBL340672 in molecule.smi (59/447). Average speed: 0.19 s/mol.\n",
      "Processing CHEMBL339484 in molecule.smi (60/447). Average speed: 0.18 s/mol.\n",
      "Processing CHEMBL292440 in molecule.smi (61/447). Average speed: 0.19 s/mol.\n",
      "Processing CHEMBL338596 in molecule.smi (62/447). Average speed: 0.18 s/mol.\n",
      "Processing CHEMBL56001 in molecule.smi (63/447). Average speed: 0.18 s/mol.\n",
      "Processing CHEMBL93241 in molecule.smi (64/447). Average speed: 0.18 s/mol.\n",
      "Processing CHEMBL56586 in molecule.smi (65/447). Average speed: 0.18 s/mol.\n",
      "Processing CHEMBL127527 in molecule.smi (66/447). Average speed: 0.18 s/mol.\n",
      "Processing CHEMBL127097 in molecule.smi (67/447). Average speed: 0.17 s/mol.\n",
      "Processing CHEMBL126852 in molecule.smi (68/447). Average speed: 0.18 s/mol.\n",
      "Processing CHEMBL299708 in molecule.smi (69/447). Average speed: 0.18 s/mol.\n",
      "Processing CHEMBL127917 in molecule.smi (70/447). Average speed: 0.17 s/mol.\n",
      "Processing CHEMBL127398 in molecule.smi (71/447). Average speed: 0.17 s/mol.\n",
      "Processing CHEMBL419782 in molecule.smi (72/447). Average speed: 0.17 s/mol.\n",
      "Processing CHEMBL340609 in molecule.smi (73/447). Average speed: 0.17 s/mol.\n",
      "Processing CHEMBL333909 in molecule.smi (74/447). Average speed: 0.17 s/mol.\n",
      "Processing CHEMBL125578 in molecule.smi (76/447). Average speed: 0.17 s/mol.\n",
      "Processing CHEMBL106891 in molecule.smi (75/447). Average speed: 0.17 s/mol.\n",
      "Processing CHEMBL55131 in molecule.smi (77/447). Average speed: 0.16 s/mol.\n",
      "Processing CHEMBL326868 in molecule.smi (78/447). Average speed: 0.16 s/mol.\n",
      "Processing CHEMBL56079 in molecule.smi (80/447). Average speed: 0.16 s/mol.\n",
      "Processing CHEMBL56368 in molecule.smi (79/447). Average speed: 0.16 s/mol.\n",
      "Processing CHEMBL127513 in molecule.smi (81/447). Average speed: 0.16 s/mol.\n",
      "Processing CHEMBL298603 in molecule.smi (82/447). Average speed: 0.16 s/mol.\n",
      "Processing CHEMBL56470 in molecule.smi (83/447). Average speed: 0.16 s/mol.\n",
      "Processing CHEMBL56960 in molecule.smi (84/447). Average speed: 0.16 s/mol.\n",
      "Processing CHEMBL123909 in molecule.smi (85/447). Average speed: 0.16 s/mol.\n",
      "Processing CHEMBL291918 in molecule.smi (87/447). Average speed: 0.16 s/mol.\n",
      "Processing CHEMBL54835 in molecule.smi (86/447). Average speed: 0.16 s/mol.\n",
      "Processing CHEMBL55968 in molecule.smi (88/447). Average speed: 0.16 s/mol.\n",
      "Processing CHEMBL54058 in molecule.smi (89/447). Average speed: 0.15 s/mol.\n",
      "Processing CHEMBL55014 in molecule.smi (90/447). Average speed: 0.16 s/mol.\n",
      "Processing CHEMBL55312 in molecule.smi (91/447). Average speed: 0.15 s/mol.\n",
      "Processing CHEMBL126354 in molecule.smi (92/447). Average speed: 0.15 s/mol.\n",
      "Processing CHEMBL55466 in molecule.smi (93/447). Average speed: 0.15 s/mol.\n",
      "Processing CHEMBL140769 in molecule.smi (94/447). Average speed: 0.15 s/mol.\n",
      "Processing CHEMBL141622 in molecule.smi (95/447). Average speed: 0.15 s/mol.\n",
      "Processing CHEMBL140228 in molecule.smi (96/447). Average speed: 0.15 s/mol.\n",
      "Processing CHEMBL141801 in molecule.smi (97/447). Average speed: 0.15 s/mol.\n",
      "Processing CHEMBL141810 in molecule.smi (98/447). Average speed: 0.15 s/mol.\n",
      "Processing CHEMBL141001 in molecule.smi (99/447). Average speed: 0.15 s/mol.\n",
      "Processing CHEMBL141167 in molecule.smi (100/447). Average speed: 0.15 s/mol.\n",
      "Processing CHEMBL141873 in molecule.smi (101/447). Average speed: 0.15 s/mol.\n",
      "Processing CHEMBL138107 in molecule.smi (102/447). Average speed: 0.15 s/mol.\n",
      "Processing CHEMBL142013 in molecule.smi (103/447). Average speed: 0.15 s/mol.\n",
      "Processing CHEMBL141853 in molecule.smi (104/447). Average speed: 0.15 s/mol.\n",
      "Processing CHEMBL142014 in molecule.smi (105/447). Average speed: 0.15 s/mol.\n",
      "Processing CHEMBL419184 in molecule.smi (106/447). Average speed: 0.15 s/mol.\n",
      "Processing CHEMBL433678 in molecule.smi (107/447). Average speed: 0.15 s/mol.\n",
      "Processing CHEMBL140737 in molecule.smi (109/447). Average speed: 0.15 s/mol.\n",
      "Processing CHEMBL140999 in molecule.smi (108/447). Average speed: 0.15 s/mol.\n"
     ]
    },
    {
     "name": "stdout",
     "output_type": "stream",
     "text": [
      "Processing CHEMBL138442 in molecule.smi (110/447). Average speed: 0.15 s/mol.\n",
      "Processing CHEMBL141515 in molecule.smi (111/447). Average speed: 0.14 s/mol.\n",
      "Processing CHEMBL105874 in molecule.smi (112/447). Average speed: 0.14 s/mol.\n",
      "Processing CHEMBL141352 in molecule.smi (113/447). Average speed: 0.14 s/mol.\n",
      "Processing CHEMBL140770 in molecule.smi (114/447). Average speed: 0.14 s/mol.\n",
      "Processing CHEMBL342413 in molecule.smi (115/447). Average speed: 0.14 s/mol.\n",
      "Processing CHEMBL141276 in molecule.smi (116/447). Average speed: 0.14 s/mol.\n",
      "Processing CHEMBL140936 in molecule.smi (117/447). Average speed: 0.14 s/mol.\n",
      "Processing CHEMBL141042 in molecule.smi (118/447). Average speed: 0.14 s/mol.\n",
      "Processing CHEMBL140328 in molecule.smi (119/447). Average speed: 0.14 s/mol.\n",
      "Processing CHEMBL139353 in molecule.smi (120/447). Average speed: 0.14 s/mol.\n",
      "Processing CHEMBL138552 in molecule.smi (121/447). Average speed: 0.14 s/mol.\n",
      "Processing CHEMBL140990 in molecule.smi (122/447). Average speed: 0.14 s/mol.\n",
      "Processing CHEMBL336686 in molecule.smi (123/447). Average speed: 0.14 s/mol.\n",
      "Processing CHEMBL140106 in molecule.smi (124/447). Average speed: 0.14 s/mol.\n",
      "Processing CHEMBL141203 in molecule.smi (125/447). Average speed: 0.14 s/mol.\n",
      "Processing CHEMBL140948 in molecule.smi (126/447). Average speed: 0.14 s/mol.\n",
      "Processing CHEMBL294413 in molecule.smi (127/447). Average speed: 0.14 s/mol.\n",
      "Processing CHEMBL56818 in molecule.smi (128/447). Average speed: 0.14 s/mol.\n",
      "Processing CHEMBL51934 in molecule.smi (129/447). Average speed: 0.14 s/mol.\n",
      "Processing CHEMBL1127 in molecule.smi (130/447). Average speed: 0.14 s/mol.\n",
      "Processing CHEMBL319451 in molecule.smi (132/447). Average speed: 0.14 s/mol.\n",
      "Processing CHEMBL318026 in molecule.smi (131/447). Average speed: 0.14 s/mol.\n",
      "Processing CHEMBL168938 in molecule.smi (133/447). Average speed: 0.14 s/mol.\n",
      "Processing CHEMBL435071 in molecule.smi (134/447). Average speed: 0.13 s/mol.\n",
      "Processing CHEMBL352948 in molecule.smi (135/447). Average speed: 0.13 s/mol.\n",
      "Processing CHEMBL169648 in molecule.smi (136/447). Average speed: 0.13 s/mol.\n",
      "Processing CHEMBL353468 in molecule.smi (137/447). Average speed: 0.13 s/mol.\n",
      "Processing CHEMBL355160 in molecule.smi (138/447). Average speed: 0.13 s/mol.\n",
      "Processing CHEMBL354848 in molecule.smi (139/447). Average speed: 0.13 s/mol.\n",
      "Processing CHEMBL172409 in molecule.smi (140/447). Average speed: 0.13 s/mol.\n",
      "Processing CHEMBL171508 in molecule.smi (141/447). Average speed: 0.13 s/mol.\n",
      "Processing CHEMBL355845 in molecule.smi (142/447). Average speed: 0.13 s/mol.\n",
      "Processing CHEMBL170946 in molecule.smi (143/447). Average speed: 0.13 s/mol.\n",
      "Processing CHEMBL171048 in molecule.smi (144/447). Average speed: 0.13 s/mol.\n",
      "Processing CHEMBL355583 in molecule.smi (145/447). Average speed: 0.13 s/mol.\n",
      "Processing CHEMBL354850 in molecule.smi (146/447). Average speed: 0.13 s/mol.\n",
      "Processing CHEMBL292518 in molecule.smi (147/447). Average speed: 0.13 s/mol.\n",
      "Processing CHEMBL433041 in molecule.smi (148/447). Average speed: 0.13 s/mol.\n",
      "Processing CHEMBL64529 in molecule.smi (149/447). Average speed: 0.13 s/mol.\n",
      "Processing CHEMBL413765 in molecule.smi (150/447). Average speed: 0.13 s/mol.\n",
      "Processing CHEMBL292421 in molecule.smi (151/447). Average speed: 0.13 s/mol.\n",
      "Processing CHEMBL413549 in molecule.smi (152/447). Average speed: 0.13 s/mol.\n",
      "Processing CHEMBL61274 in molecule.smi (153/447). Average speed: 0.13 s/mol.\n",
      "Processing CHEMBL411226 in molecule.smi (154/447). Average speed: 0.13 s/mol.\n",
      "Processing CHEMBL314437 in molecule.smi (155/447). Average speed: 0.13 s/mol.\n",
      "Processing CHEMBL636 in molecule.smi (156/447). Average speed: 0.13 s/mol.\n",
      "Processing CHEMBL265214 in molecule.smi (157/447). Average speed: 0.13 s/mol.\n",
      "Processing CHEMBL406885 in molecule.smi (158/447). Average speed: 0.13 s/mol.\n",
      "Processing CHEMBL259523 in molecule.smi (159/447). Average speed: 0.13 s/mol.\n",
      "Processing CHEMBL406645 in molecule.smi (160/447). Average speed: 0.13 s/mol.\n",
      "Processing CHEMBL410915 in molecule.smi (161/447). Average speed: 0.13 s/mol.\n",
      "Processing CHEMBL258505 in molecule.smi (163/447). Average speed: 0.13 s/mol.\n",
      "Processing CHEMBL258935 in molecule.smi (162/447). Average speed: 0.13 s/mol.\n",
      "Processing CHEMBL408463 in molecule.smi (164/447). Average speed: 0.13 s/mol.\n",
      "Processing CHEMBL409858 in molecule.smi (165/447). Average speed: 0.13 s/mol.\n",
      "Processing CHEMBL258468 in molecule.smi (166/447). Average speed: 0.13 s/mol.\n",
      "Processing CHEMBL1087663 in molecule.smi (167/447). Average speed: 0.13 s/mol.\n",
      "Processing CHEMBL1080386 in molecule.smi (168/447). Average speed: 0.13 s/mol.\n",
      "Processing CHEMBL1087152 in molecule.smi (169/447). Average speed: 0.13 s/mol.\n",
      "Processing CHEMBL1086635 in molecule.smi (170/447). Average speed: 0.14 s/mol.\n",
      "Processing CHEMBL1086636 in molecule.smi (171/447). Average speed: 0.13 s/mol.\n",
      "Processing CHEMBL1087623 in molecule.smi (172/447). Average speed: 0.14 s/mol.\n",
      "Processing CHEMBL1080541 in molecule.smi (173/447). Average speed: 0.14 s/mol.\n",
      "Processing CHEMBL129837 in molecule.smi (174/447). Average speed: 0.14 s/mol.\n",
      "Processing CHEMBL1080720 in molecule.smi (176/447). Average speed: 0.14 s/mol.\n",
      "Processing CHEMBL1080542 in molecule.smi (175/447). Average speed: 0.14 s/mol.\n",
      "Processing CHEMBL1080562 in molecule.smi (177/447). Average speed: 0.14 s/mol.\n",
      "Processing CHEMBL1080730 in molecule.smi (178/447). Average speed: 0.14 s/mol.\n",
      "Processing CHEMBL1076547 in molecule.smi (179/447). Average speed: 0.14 s/mol.\n",
      "Processing CHEMBL1076548 in molecule.smi (180/447). Average speed: 0.14 s/mol.\n",
      "Processing CHEMBL1080737 in molecule.smi (181/447). Average speed: 0.14 s/mol.\n",
      "Processing CHEMBL1081427 in molecule.smi (182/447). Average speed: 0.14 s/mol.\n",
      "Processing CHEMBL1081428 in molecule.smi (183/447). Average speed: 0.14 s/mol.\n",
      "Processing CHEMBL1081275 in molecule.smi (184/447). Average speed: 0.14 s/mol.\n",
      "Processing CHEMBL75729 in molecule.smi (185/447). Average speed: 0.14 s/mol.\n",
      "Processing CHEMBL1080546 in molecule.smi (186/447). Average speed: 0.14 s/mol.\n",
      "Processing CHEMBL1080547 in molecule.smi (187/447). Average speed: 0.14 s/mol.\n",
      "Processing CHEMBL1080387 in molecule.smi (188/447). Average speed: 0.14 s/mol.\n",
      "Processing CHEMBL1081085 in molecule.smi (189/447). Average speed: 0.14 s/mol.\n",
      "Processing CHEMBL1081433 in molecule.smi (190/447). Average speed: 0.14 s/mol.\n",
      "Processing CHEMBL1080753 in molecule.smi (191/447). Average speed: 0.14 s/mol.\n",
      "Processing CHEMBL1081455 in molecule.smi (192/447). Average speed: 0.14 s/mol.\n",
      "Processing CHEMBL1081456 in molecule.smi (193/447). Average speed: 0.14 s/mol.\n",
      "Processing CHEMBL1081457 in molecule.smi (194/447). Average speed: 0.14 s/mol.\n",
      "Processing CHEMBL1081968 in molecule.smi (195/447). Average speed: 0.14 s/mol.\n",
      "Processing CHEMBL1081969 in molecule.smi (196/447). Average speed: 0.14 s/mol.\n",
      "Processing CHEMBL1081970 in molecule.smi (197/447). Average speed: 0.14 s/mol.\n",
      "Processing CHEMBL1079797 in molecule.smi (198/447). Average speed: 0.14 s/mol.\n",
      "Processing CHEMBL1081652 in molecule.smi (199/447). Average speed: 0.14 s/mol.\n",
      "Processing CHEMBL1081653 in molecule.smi (200/447). Average speed: 0.14 s/mol.\n",
      "Processing CHEMBL1081834 in molecule.smi (201/447). Average speed: 0.14 s/mol.\n",
      "Processing CHEMBL1081835 in molecule.smi (202/447). Average speed: 0.14 s/mol.\n",
      "Processing CHEMBL1081031 in molecule.smi (203/447). Average speed: 0.14 s/mol.\n",
      "Processing CHEMBL1081032 in molecule.smi (204/447). Average speed: 0.14 s/mol.\n",
      "Processing CHEMBL333149 in molecule.smi (205/447). Average speed: 0.14 s/mol.\n",
      "Processing CHEMBL1222256 in molecule.smi (206/447). Average speed: 0.14 s/mol.\n",
      "Processing CHEMBL444970 in molecule.smi (207/447). Average speed: 0.14 s/mol.\n",
      "Processing CHEMBL23838 in molecule.smi (208/447). Average speed: 0.14 s/mol.\n",
      "Processing CHEMBL2159416 in molecule.smi (209/447). Average speed: 0.14 s/mol.\n",
      "Processing CHEMBL2159415 in molecule.smi (210/447). Average speed: 0.14 s/mol.\n",
      "Processing CHEMBL2159424 in molecule.smi (212/447). Average speed: 0.14 s/mol.\n",
      "Processing CHEMBL2159414 in molecule.smi (211/447). Average speed: 0.14 s/mol.\n",
      "Processing CHEMBL2159423 in molecule.smi (213/447). Average speed: 0.14 s/mol.\n",
      "Processing CHEMBL2159422 in molecule.smi (214/447). Average speed: 0.14 s/mol.\n"
     ]
    },
    {
     "name": "stdout",
     "output_type": "stream",
     "text": [
      "Processing CHEMBL2159421 in molecule.smi (215/447). Average speed: 0.14 s/mol.\n",
      "Processing CHEMBL2159420 in molecule.smi (216/447). Average speed: 0.14 s/mol.\n",
      "Processing CHEMBL2159419 in molecule.smi (217/447). Average speed: 0.14 s/mol.\n",
      "Processing CHEMBL2159418 in molecule.smi (218/447). Average speed: 0.14 s/mol.\n",
      "Processing CHEMBL2159417 in molecule.smi (219/447). Average speed: 0.14 s/mol.\n",
      "Processing CHEMBL2159428 in molecule.smi (220/447). Average speed: 0.13 s/mol.\n",
      "Processing CHEMBL2159427 in molecule.smi (221/447). Average speed: 0.14 s/mol.\n",
      "Processing CHEMBL448799 in molecule.smi (224/447). Average speed: 0.14 s/mol.\n",
      "Processing CHEMBL2159426 in molecule.smi (222/447). Average speed: 0.14 s/mol.\n",
      "Processing CHEMBL2159425 in molecule.smi (223/447). Average speed: 0.13 s/mol.\n",
      "Processing CHEMBL345124 in molecule.smi (225/447). Average speed: 0.13 s/mol.\n",
      "Processing CHEMBL3087804 in molecule.smi (226/447). Average speed: 0.13 s/mol.\n",
      "Processing CHEMBL3087803 in molecule.smi (227/447). Average speed: 0.13 s/mol.\n",
      "Processing CHEMBL3087802 in molecule.smi (228/447). Average speed: 0.13 s/mol.\n",
      "Processing CHEMBL3087801 in molecule.smi (229/447). Average speed: 0.13 s/mol.\n",
      "Processing CHEMBL3087799 in molecule.smi (231/447). Average speed: 0.13 s/mol.\n",
      "Processing CHEMBL3087800 in molecule.smi (230/447). Average speed: 0.13 s/mol.\n",
      "Processing CHEMBL1624646 in molecule.smi (233/447). Average speed: 0.13 s/mol.\n",
      "Processing CHEMBL3087798 in molecule.smi (232/447). Average speed: 0.13 s/mol.\n",
      "Processing CHEMBL3087797 in molecule.smi (234/447). Average speed: 0.13 s/mol.\n",
      "Processing CHEMBL3087796 in molecule.smi (235/447). Average speed: 0.13 s/mol.\n",
      "Processing CHEMBL3087795 in molecule.smi (236/447). Average speed: 0.13 s/mol.\n",
      "Processing CHEMBL3087794 in molecule.smi (237/447). Average speed: 0.13 s/mol.\n",
      "Processing CHEMBL3087815 in molecule.smi (238/447). Average speed: 0.13 s/mol.\n",
      "Processing CHEMBL3087813 in molecule.smi (240/447). Average speed: 0.13 s/mol.\n",
      "Processing CHEMBL3087814 in molecule.smi (239/447). Average speed: 0.13 s/mol.\n",
      "Processing CHEMBL3087811 in molecule.smi (242/447). Average speed: 0.13 s/mol.\n",
      "Processing CHEMBL3087809 in molecule.smi (244/447). Average speed: 0.13 s/mol.\n",
      "Processing CHEMBL3087812 in molecule.smi (241/447). Average speed: 0.13 s/mol.\n",
      "Processing CHEMBL3087810 in molecule.smi (243/447). Average speed: 0.13 s/mol.\n",
      "Processing CHEMBL3087807 in molecule.smi (246/447). Average speed: 0.13 s/mol.\n",
      "Processing CHEMBL659 in molecule.smi (250/447). Average speed: 0.13 s/mol.\n",
      "Processing CHEMBL1255901 in molecule.smi (249/447). Average speed: 0.13 s/mol.\n",
      "Processing CHEMBL3087808 in molecule.smi (245/447). Average speed: 0.13 s/mol.\n",
      "Processing CHEMBL3087805 in molecule.smi (248/447). Average speed: 0.13 s/mol.\n",
      "Processing CHEMBL3116217 in molecule.smi (252/447). Average speed: 0.12 s/mol.\n",
      "Processing CHEMBL3087806 in molecule.smi (247/447). Average speed: 0.13 s/mol.\n",
      "Processing CHEMBL71851 in molecule.smi (251/447). Average speed: 0.13 s/mol.\n",
      "Processing CHEMBL3116214 in molecule.smi (253/447). Average speed: 0.12 s/mol.\n",
      "Processing CHEMBL3112626 in molecule.smi (254/447). Average speed: 0.12 s/mol.\n",
      "Processing CHEMBL3116211 in molecule.smi (256/447). Average speed: 0.12 s/mol.\n",
      "Processing CHEMBL3116213 in molecule.smi (255/447). Average speed: 0.12 s/mol.\n",
      "Processing CHEMBL3116210 in molecule.smi (257/447). Average speed: 0.12 s/mol.\n",
      "Processing CHEMBL3116209 in molecule.smi (258/447). Average speed: 0.12 s/mol.\n",
      "Processing CHEMBL3359496 in molecule.smi (259/447). Average speed: 0.12 s/mol.\n",
      "Processing CHEMBL3359495 in molecule.smi (260/447). Average speed: 0.12 s/mol.\n",
      "Processing CHEMBL490355 in molecule.smi (262/447). Average speed: 0.12 s/mol.\n",
      "Processing CHEMBL3359494 in molecule.smi (261/447). Average speed: 0.12 s/mol.\n",
      "Processing CHEMBL3359493 in molecule.smi (263/447). Average speed: 0.12 s/mol.\n",
      "Processing CHEMBL3359492 in molecule.smi (264/447). Average speed: 0.12 s/mol.\n",
      "Processing CHEMBL3359491 in molecule.smi (265/447). Average speed: 0.12 s/mol.\n",
      "Processing CHEMBL3359490 in molecule.smi (266/447). Average speed: 0.12 s/mol.\n",
      "Processing CHEMBL3359489 in molecule.smi (267/447). Average speed: 0.12 s/mol.\n",
      "Processing CHEMBL3359488 in molecule.smi (268/447). Average speed: 0.12 s/mol.\n",
      "Processing CHEMBL3359487 in molecule.smi (269/447). Average speed: 0.12 s/mol.\n",
      "Processing CHEMBL3359486 in molecule.smi (270/447). Average speed: 0.12 s/mol.\n",
      "Processing CHEMBL3359484 in molecule.smi (272/447). Average speed: 0.12 s/mol.\n",
      "Processing CHEMBL3359485 in molecule.smi (271/447). Average speed: 0.12 s/mol.\n",
      "Processing CHEMBL3359483 in molecule.smi (273/447). Average speed: 0.12 s/mol.\n",
      "Processing CHEMBL3359482 in molecule.smi (274/447). Average speed: 0.12 s/mol.\n",
      "Processing CHEMBL3359481 in molecule.smi (275/447). Average speed: 0.12 s/mol.\n",
      "Processing CHEMBL3359480 in molecule.smi (276/447). Average speed: 0.12 s/mol.\n",
      "Processing CHEMBL3359479 in molecule.smi (277/447). Average speed: 0.12 s/mol.\n",
      "Processing CHEMBL3359478 in molecule.smi (278/447). Average speed: 0.12 s/mol.\n",
      "Processing CHEMBL3359477 in molecule.smi (279/447). Average speed: 0.12 s/mol.\n",
      "Processing CHEMBL3359476 in molecule.smi (280/447). Average speed: 0.12 s/mol.\n",
      "Processing CHEMBL3359475 in molecule.smi (281/447). Average speed: 0.12 s/mol.\n",
      "Processing CHEMBL3359474 in molecule.smi (282/447). Average speed: 0.12 s/mol.\n",
      "Processing CHEMBL3359473 in molecule.smi (283/447). Average speed: 0.12 s/mol.\n",
      "Processing CHEMBL3359471 in molecule.smi (285/447). Average speed: 0.12 s/mol.\n",
      "Processing CHEMBL3359472 in molecule.smi (284/447). Average speed: 0.12 s/mol.\n",
      "Processing CHEMBL3359470 in molecule.smi (286/447). Average speed: 0.12 s/mol.\n",
      "Processing CHEMBL3359469 in molecule.smi (287/447). Average speed: 0.12 s/mol.\n",
      "Processing CHEMBL3359468 in molecule.smi (288/447). Average speed: 0.12 s/mol.\n",
      "Processing CHEMBL3359467 in molecule.smi (289/447). Average speed: 0.12 s/mol.\n",
      "Processing CHEMBL3359466 in molecule.smi (290/447). Average speed: 0.12 s/mol.\n",
      "Processing CHEMBL3338394 in molecule.smi (291/447). Average speed: 0.12 s/mol.\n",
      "Processing CHEMBL3338391 in molecule.smi (292/447). Average speed: 0.12 s/mol.\n",
      "Processing CHEMBL3338395 in molecule.smi (293/447). Average speed: 0.12 s/mol.\n",
      "Processing CHEMBL3965046 in molecule.smi (294/447). Average speed: 0.12 s/mol.\n",
      "Processing CHEMBL1459580 in molecule.smi (295/447). Average speed: 0.12 s/mol.\n",
      "Processing CHEMBL3909539 in molecule.smi (296/447). Average speed: 0.12 s/mol.\n",
      "Processing CHEMBL3979735 in molecule.smi (297/447). Average speed: 0.12 s/mol.\n",
      "Processing CHEMBL3980699 in molecule.smi (298/447). Average speed: 0.12 s/mol.\n",
      "Processing CHEMBL3951830 in molecule.smi (299/447). Average speed: 0.12 s/mol.\n",
      "Processing CHEMBL3891487 in molecule.smi (300/447). Average speed: 0.12 s/mol.\n",
      "Processing CHEMBL3960527 in molecule.smi (301/447). Average speed: 0.12 s/mol.\n",
      "Processing CHEMBL3910200 in molecule.smi (302/447). Average speed: 0.12 s/mol.\n",
      "Processing CHEMBL3938124 in molecule.smi (303/447). Average speed: 0.12 s/mol.\n",
      "Processing CHEMBL3944788 in molecule.smi (304/447). Average speed: 0.12 s/mol.\n",
      "Processing CHEMBL3974229 in molecule.smi (305/447). Average speed: 0.12 s/mol.\n",
      "Processing CHEMBL3953512 in molecule.smi (306/447). Average speed: 0.12 s/mol.\n",
      "Processing CHEMBL3982229 in molecule.smi (307/447). Average speed: 0.12 s/mol.\n",
      "Processing CHEMBL3962271 in molecule.smi (308/447). Average speed: 0.12 s/mol.\n",
      "Processing CHEMBL3893245 in molecule.smi (309/447). Average speed: 0.12 s/mol.\n",
      "Processing CHEMBL3915915 in molecule.smi (310/447). Average speed: 0.12 s/mol.\n",
      "Processing CHEMBL3964515 in molecule.smi (311/447). Average speed: 0.12 s/mol.\n",
      "Processing CHEMBL3924905 in molecule.smi (312/447). Average speed: 0.11 s/mol.\n",
      "Processing CHEMBL3980929 in molecule.smi (313/447). Average speed: 0.11 s/mol.\n",
      "Processing CHEMBL3952086 in molecule.smi (314/447). Average speed: 0.11 s/mol.\n",
      "Processing CHEMBL3972913 in molecule.smi (315/447). Average speed: 0.11 s/mol.\n",
      "Processing CHEMBL3943366 in molecule.smi (316/447). Average speed: 0.11 s/mol.\n",
      "Processing CHEMBL3900751 in molecule.smi (317/447). Average speed: 0.11 s/mol.\n",
      "Processing CHEMBL3971906 in molecule.smi (318/447). Average speed: 0.11 s/mol.\n"
     ]
    },
    {
     "name": "stdout",
     "output_type": "stream",
     "text": [
      "Processing CHEMBL3891772 in molecule.smi (319/447). Average speed: 0.11 s/mol.\n",
      "Processing CHEMBL3960783 in molecule.smi (320/447). Average speed: 0.11 s/mol.\n",
      "Processing CHEMBL3918754 in molecule.smi (321/447). Average speed: 0.11 s/mol.\n",
      "Processing CHEMBL3957522 in molecule.smi (323/447). Average speed: 0.11 s/mol.\n",
      "Processing CHEMBL502 in molecule.smi (322/447). Average speed: 0.11 s/mol.\n",
      "Processing CHEMBL3929969 in molecule.smi (324/447). Average speed: 0.11 s/mol.\n",
      "Processing CHEMBL3986296 in molecule.smi (325/447). Average speed: 0.11 s/mol.\n",
      "Processing CHEMBL3954226 in molecule.smi (326/447). Average speed: 0.11 s/mol.\n",
      "Processing CHEMBL3893350 in molecule.smi (327/447). Average speed: 0.11 s/mol.\n",
      "Processing CHEMBL3897047 in molecule.smi (328/447). Average speed: 0.11 s/mol.\n",
      "Processing CHEMBL3985617 in molecule.smi (329/447). Average speed: 0.11 s/mol.\n",
      "Processing CHEMBL3946681 in molecule.smi (330/447). Average speed: 0.11 s/mol.\n",
      "Processing CHEMBL3914759 in molecule.smi (331/447). Average speed: 0.11 s/mol.\n",
      "Processing CHEMBL3895646 in molecule.smi (332/447). Average speed: 0.11 s/mol.\n",
      "Processing CHEMBL3902342 in molecule.smi (333/447). Average speed: 0.11 s/mol.\n",
      "Processing CHEMBL3939392 in molecule.smi (334/447). Average speed: 0.11 s/mol.\n",
      "Processing CHEMBL3891256 in molecule.smi (336/447). Average speed: 0.11 s/mol.\n",
      "Processing CHEMBL3929184 in molecule.smi (335/447). Average speed: 0.11 s/mol.\n",
      "Processing CHEMBL3925356 in molecule.smi (337/447). Average speed: 0.11 s/mol.\n",
      "Processing CHEMBL3936636 in molecule.smi (338/447). Average speed: 0.11 s/mol.\n",
      "Processing CHEMBL3934258 in molecule.smi (339/447). Average speed: 0.11 s/mol.\n",
      "Processing CHEMBL3902810 in molecule.smi (340/447). Average speed: 0.11 s/mol.\n",
      "Processing CHEMBL3939802 in molecule.smi (341/447). Average speed: 0.11 s/mol.\n",
      "Processing CHEMBL3911824 in molecule.smi (342/447). Average speed: 0.11 s/mol.\n",
      "Processing CHEMBL3948556 in molecule.smi (343/447). Average speed: 0.11 s/mol.\n",
      "Processing CHEMBL3924924 in molecule.smi (344/447). Average speed: 0.11 s/mol.\n",
      "Processing CHEMBL3961458 in molecule.smi (345/447). Average speed: 0.11 s/mol.\n",
      "Processing CHEMBL3933194 in molecule.smi (346/447). Average speed: 0.11 s/mol.\n",
      "Processing CHEMBL3967920 in molecule.smi (347/447). Average speed: 0.11 s/mol.\n",
      "Processing CHEMBL3965040 in molecule.smi (348/447). Average speed: 0.11 s/mol.\n",
      "Processing CHEMBL3981391 in molecule.smi (349/447). Average speed: 0.11 s/mol.\n",
      "Processing CHEMBL3914815 in molecule.smi (350/447). Average speed: 0.11 s/mol.\n",
      "Processing CHEMBL3949886 in molecule.smi (351/447). Average speed: 0.11 s/mol.\n",
      "Processing CHEMBL3970664 in molecule.smi (352/447). Average speed: 0.11 s/mol.\n",
      "Processing CHEMBL3965324 in molecule.smi (353/447). Average speed: 0.11 s/mol.\n",
      "Processing CHEMBL3959088 in molecule.smi (354/447). Average speed: 0.11 s/mol.\n",
      "Processing CHEMBL3899138 in molecule.smi (355/447). Average speed: 0.11 s/mol.\n",
      "Processing CHEMBL3967548 in molecule.smi (356/447). Average speed: 0.11 s/mol.\n",
      "Processing CHEMBL3955123 in molecule.smi (357/447). Average speed: 0.11 s/mol.\n",
      "Processing CHEMBL3978903 in molecule.smi (358/447). Average speed: 0.11 s/mol.\n",
      "Processing CHEMBL3902139 in molecule.smi (359/447). Average speed: 0.11 s/mol.\n",
      "Processing CHEMBL3929634 in molecule.smi (360/447). Average speed: 0.11 s/mol.\n",
      "Processing CHEMBL4077386 in molecule.smi (361/447). Average speed: 0.11 s/mol.\n",
      "Processing CHEMBL4097939 in molecule.smi (362/447). Average speed: 0.11 s/mol.\n",
      "Processing CHEMBL4078849 in molecule.smi (363/447). Average speed: 0.11 s/mol.\n",
      "Processing CHEMBL4075840 in molecule.smi (364/447). Average speed: 0.11 s/mol.\n",
      "Processing CHEMBL4060562 in molecule.smi (365/447). Average speed: 0.11 s/mol.\n",
      "Processing CHEMBL4077192 in molecule.smi (366/447). Average speed: 0.11 s/mol.\n",
      "Processing CHEMBL4065481 in molecule.smi (367/447). Average speed: 0.11 s/mol.\n",
      "Processing CHEMBL4089230 in molecule.smi (368/447). Average speed: 0.11 s/mol.\n",
      "Processing CHEMBL4105611 in molecule.smi (369/447). Average speed: 0.11 s/mol.\n",
      "Processing CHEMBL4212660 in molecule.smi (370/447). Average speed: 0.11 s/mol.\n",
      "Processing CHEMBL4211314 in molecule.smi (371/447). Average speed: 0.11 s/mol.\n",
      "Processing CHEMBL4218860 in molecule.smi (372/447). Average speed: 0.11 s/mol.\n",
      "Processing CHEMBL4205810 in molecule.smi (373/447). Average speed: 0.11 s/mol.\n",
      "Processing CHEMBL4207420 in molecule.smi (374/447). Average speed: 0.11 s/mol.\n",
      "Processing CHEMBL4204474 in molecule.smi (375/447). Average speed: 0.11 s/mol.\n",
      "Processing CHEMBL4217801 in molecule.smi (376/447). Average speed: 0.11 s/mol.\n",
      "Processing CHEMBL4212031 in molecule.smi (377/447). Average speed: 0.11 s/mol.\n",
      "Processing CHEMBL4208818 in molecule.smi (378/447). Average speed: 0.11 s/mol.\n",
      "Processing CHEMBL4204616 in molecule.smi (379/447). Average speed: 0.11 s/mol.\n",
      "Processing CHEMBL4208352 in molecule.smi (380/447). Average speed: 0.11 s/mol.\n",
      "Processing CHEMBL4282214 in molecule.smi (381/447). Average speed: 0.11 s/mol.\n",
      "Processing CHEMBL32823 in molecule.smi (382/447). Average speed: 0.11 s/mol.\n",
      "Processing CHEMBL4287482 in molecule.smi (383/447). Average speed: 0.11 s/mol.\n",
      "Processing CHEMBL4276832 in molecule.smi (384/447). Average speed: 0.11 s/mol.\n",
      "Processing CHEMBL4290902 in molecule.smi (385/447). Average speed: 0.11 s/mol.\n",
      "Processing CHEMBL4280262 in molecule.smi (386/447). Average speed: 0.11 s/mol.\n",
      "Processing CHEMBL4294287 in molecule.smi (387/447). Average speed: 0.11 s/mol.\n",
      "Processing CHEMBL4283717 in molecule.smi (388/447). Average speed: 0.11 s/mol.\n",
      "Processing CHEMBL4279148 in molecule.smi (389/447). Average speed: 0.11 s/mol.\n",
      "Processing CHEMBL41 in molecule.smi (393/447). Average speed: 0.11 s/mol.\n",
      "Processing CHEMBL4565335 in molecule.smi (391/447). Average speed: 0.11 s/mol.\n",
      "Processing CHEMBL4287068 in molecule.smi (390/447). Average speed: 0.11 s/mol.\n",
      "Processing CHEMBL497071 in molecule.smi (392/447). Average speed: 0.11 s/mol.\n",
      "Processing CHEMBL194372 in molecule.smi (394/447). Average speed: 0.11 s/mol.\n",
      "Processing CHEMBL197696 in molecule.smi (395/447). Average speed: 0.11 s/mol.\n",
      "Processing CHEMBL4530282 in molecule.smi (396/447). Average speed: 0.11 s/mol.\n",
      "Processing CHEMBL4554595 in molecule.smi (397/447). Average speed: 0.11 s/mol.\n",
      "Processing CHEMBL4563881 in molecule.smi (398/447). Average speed: 0.11 s/mol.\n",
      "Processing CHEMBL4448762 in molecule.smi (399/447). Average speed: 0.11 s/mol.\n",
      "Processing CHEMBL4548035 in molecule.smi (400/447). Average speed: 0.11 s/mol.\n",
      "Processing CHEMBL4435620 in molecule.smi (401/447). Average speed: 0.11 s/mol.\n",
      "Processing CHEMBL4468902 in molecule.smi (402/447). Average speed: 0.11 s/mol.\n",
      "Processing CHEMBL4456987 in molecule.smi (403/447). Average speed: 0.11 s/mol.\n",
      "Processing CHEMBL4532235 in molecule.smi (404/447). Average speed: 0.11 s/mol.\n",
      "Processing CHEMBL4468789 in molecule.smi (405/447). Average speed: 0.11 s/mol.\n",
      "Processing CHEMBL4532460 in molecule.smi (406/447). Average speed: 0.11 s/mol.\n",
      "Processing CHEMBL4468239 in molecule.smi (407/447). Average speed: 0.11 s/mol.\n",
      "Processing CHEMBL4441331 in molecule.smi (408/447). Average speed: 0.11 s/mol.\n",
      "Processing CHEMBL4463534 in molecule.smi (409/447). Average speed: 0.11 s/mol.\n",
      "Processing CHEMBL4588982 in molecule.smi (410/447). Average speed: 0.11 s/mol.\n",
      "Processing CHEMBL4545108 in molecule.smi (411/447). Average speed: 0.11 s/mol.\n",
      "Processing CHEMBL4472523 in molecule.smi (412/447). Average speed: 0.11 s/mol.\n",
      "Processing CHEMBL4541277 in molecule.smi (413/447). Average speed: 0.11 s/mol.\n",
      "Processing CHEMBL34173 in molecule.smi (414/447). Average speed: 0.11 s/mol.\n",
      "Processing CHEMBL4459772 in molecule.smi (415/447). Average speed: 0.11 s/mol.\n",
      "Processing CHEMBL4559444 in molecule.smi (416/447). Average speed: 0.11 s/mol.\n",
      "Processing CHEMBL4556749 in molecule.smi (417/447). Average speed: 0.11 s/mol.\n",
      "Processing CHEMBL4566252 in molecule.smi (418/447). Average speed: 0.11 s/mol.\n",
      "Processing CHEMBL4470726 in molecule.smi (419/447). Average speed: 0.11 s/mol.\n",
      "Processing CHEMBL4528042 in molecule.smi (420/447). Average speed: 0.11 s/mol.\n",
      "Processing CHEMBL4455973 in molecule.smi (421/447). Average speed: 0.11 s/mol.\n",
      "Processing CHEMBL4544371 in molecule.smi (422/447). Average speed: 0.11 s/mol.\n"
     ]
    },
    {
     "name": "stdout",
     "output_type": "stream",
     "text": [
      "Processing CHEMBL4535870 in molecule.smi (423/447). Average speed: 0.11 s/mol.\n",
      "Processing CHEMBL4592519 in molecule.smi (424/447). Average speed: 0.11 s/mol.\n",
      "Processing CHEMBL4526265 in molecule.smi (425/447). Average speed: 0.11 s/mol.\n",
      "Processing CHEMBL4458241 in molecule.smi (426/447). Average speed: 0.11 s/mol.\n",
      "Processing CHEMBL4547392 in molecule.smi (427/447). Average speed: 0.11 s/mol.\n",
      "Processing CHEMBL4458007 in molecule.smi (431/447). Average speed: 0.11 s/mol.\n",
      "Processing CHEMBL4450711 in molecule.smi (430/447). Average speed: 0.11 s/mol.\n",
      "Processing CHEMBL4550487 in molecule.smi (428/447). Average speed: 0.11 s/mol.\n",
      "Processing CHEMBL4461381 in molecule.smi (429/447). Average speed: 0.11 s/mol.\n",
      "Processing CHEMBL4568293 in molecule.smi (435/447). Average speed: 0.11 s/mol.\n",
      "Processing CHEMBL4568961 in molecule.smi (432/447). Average speed: 0.11 s/mol.\n",
      "Processing CHEMBL4559958 in molecule.smi (433/447). Average speed: 0.11 s/mol.\n",
      "Processing CHEMBL4554072 in molecule.smi (434/447). Average speed: 0.11 s/mol.\n",
      "Processing CHEMBL4552051 in molecule.smi (436/447). Average speed: 0.11 s/mol.\n",
      "Processing CHEMBL4555824 in molecule.smi (437/447). Average speed: 0.11 s/mol.\n",
      "Processing CHEMBL4438929 in molecule.smi (438/447). Average speed: 0.11 s/mol.\n",
      "Processing CHEMBL4583406 in molecule.smi (439/447). Average speed: 0.11 s/mol.\n",
      "Processing CHEMBL4450260 in molecule.smi (440/447). Average speed: 0.11 s/mol.\n",
      "Processing CHEMBL4476554 in molecule.smi (441/447). Average speed: 0.11 s/mol.\n",
      "Processing CHEMBL4471251 in molecule.smi (442/447). Average speed: 0.11 s/mol.\n",
      "Processing CHEMBL4543223 in molecule.smi (443/447). Average speed: 0.11 s/mol.\n",
      "Processing CHEMBL4516496 in molecule.smi (444/447). Average speed: 0.11 s/mol.\n",
      "Processing CHEMBL4554976 in molecule.smi (446/447). Average speed: 0.11 s/mol.\n",
      "Processing CHEMBL4586884 in molecule.smi (445/447). Average speed: 0.11 s/mol.\n",
      "Processing CHEMBL4439461 in molecule.smi (447/447). Average speed: 0.11 s/mol.\n",
      "Descriptor calculation completed in 48.349 secs . Average speed: 0.11 s/mol.\n"
     ]
    }
   ],
   "source": [
    "! bash padel.sh"
   ]
  },
  {
   "cell_type": "code",
   "execution_count": null,
   "metadata": {
    "colab": {
     "base_uri": "https://localhost:8080/",
     "height": 173
    },
    "colab_type": "code",
    "id": "2p7rAVy_k_hH",
    "outputId": "7404029f-4d69-486c-97a2-faf6d4574971"
   },
   "outputs": [],
   "source": [
    "! ls -l"
   ]
  },
  {
   "cell_type": "markdown",
   "metadata": {
    "colab_type": "text",
    "id": "gUMlPfFrxicj"
   },
   "source": [
    "## **Preparing the X and Y Data Matrices**"
   ]
  },
  {
   "cell_type": "markdown",
   "metadata": {
    "colab_type": "text",
    "id": "30aa4WP4ZA8M"
   },
   "source": [
    "### **X data matrix**"
   ]
  },
  {
   "cell_type": "code",
   "execution_count": null,
   "metadata": {
    "colab": {},
    "colab_type": "code",
    "id": "3g319qxVl7tY"
   },
   "outputs": [],
   "source": [
    "df3_X = pd.read_csv('descriptors_output.csv')"
   ]
  },
  {
   "cell_type": "code",
   "execution_count": null,
   "metadata": {
    "colab": {
     "base_uri": "https://localhost:8080/",
     "height": 435
    },
    "colab_type": "code",
    "id": "hBp1PTObFQDd",
    "outputId": "26a4603a-d1b2-4d64-e1c8-cf5fd0612bbf"
   },
   "outputs": [],
   "source": [
    "df3_X"
   ]
  },
  {
   "cell_type": "code",
   "execution_count": null,
   "metadata": {
    "colab": {
     "base_uri": "https://localhost:8080/",
     "height": 435
    },
    "colab_type": "code",
    "id": "dTJsDPBKq_hr",
    "outputId": "c92c4d7d-6df7-40b0-a7b8-ce644bacb52a"
   },
   "outputs": [],
   "source": [
    "df3_X = df3_X.drop(columns=['Name'])\n",
    "df3_X"
   ]
  },
  {
   "cell_type": "markdown",
   "metadata": {
    "colab_type": "text",
    "id": "6ePu814KZNBG"
   },
   "source": [
    "## **Y variable**"
   ]
  },
  {
   "cell_type": "markdown",
   "metadata": {
    "colab_type": "text",
    "id": "9ssfxFCdr7ua"
   },
   "source": [
    "### **Convert IC50 to pIC50**"
   ]
  },
  {
   "cell_type": "code",
   "execution_count": null,
   "metadata": {
    "colab": {
     "base_uri": "https://localhost:8080/",
     "height": 225
    },
    "colab_type": "code",
    "id": "FlhsSEW5FXTG",
    "outputId": "ef224d6b-4cf3-4bde-fe83-d2e43f6e246c"
   },
   "outputs": [],
   "source": [
    "df3_Y = df3['pIC50']\n",
    "df3_Y"
   ]
  },
  {
   "cell_type": "markdown",
   "metadata": {
    "colab_type": "text",
    "id": "eET6iZ1Aw3oe"
   },
   "source": [
    "## **Combining X and Y variable**"
   ]
  },
  {
   "cell_type": "code",
   "execution_count": null,
   "metadata": {
    "colab": {
     "base_uri": "https://localhost:8080/",
     "height": 435
    },
    "colab_type": "code",
    "id": "FRBfBP3QxFJp",
    "outputId": "ee900c26-ff5c-4e20-a3fb-7b1f9367db66"
   },
   "outputs": [],
   "source": [
    "dataset3 = pd.concat([df3_X,df3_Y], axis=1)\n",
    "dataset3"
   ]
  },
  {
   "cell_type": "code",
   "execution_count": null,
   "metadata": {
    "colab": {},
    "colab_type": "code",
    "id": "75npGyvhae0e"
   },
   "outputs": [],
   "source": [
    "dataset3.to_csv('acetylcholinesterase_06_bioactivity_data_3class_pIC50_pubchem_fp.csv', index=False)"
   ]
  },
  {
   "cell_type": "markdown",
   "metadata": {
    "colab_type": "text",
    "id": "nFpLoNRHeRa6"
   },
   "source": [
    "# **Let's download the CSV file to your local computer for the Part 3B (Model Building).**"
   ]
  }
 ],
 "metadata": {
  "colab": {
   "collapsed_sections": [],
   "name": "CDD-ML-Part-3-Acetylcholinesterase-Descriptor-Dataset-Preparation.ipynb",
   "provenance": []
  },
  "kernelspec": {
   "display_name": "Python 3 (ipykernel)",
   "language": "python",
   "name": "python3"
  },
  "language_info": {
   "codemirror_mode": {
    "name": "ipython",
    "version": 3
   },
   "file_extension": ".py",
   "mimetype": "text/x-python",
   "name": "python",
   "nbconvert_exporter": "python",
   "pygments_lexer": "ipython3",
   "version": "3.9.13"
  }
 },
 "nbformat": 4,
 "nbformat_minor": 1
}
